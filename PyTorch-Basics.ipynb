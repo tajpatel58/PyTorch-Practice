{
 "cells": [
  {
   "cell_type": "markdown",
   "metadata": {},
   "source": [
    "### PyTorch Basics:"
   ]
  },
  {
   "cell_type": "code",
   "execution_count": 2,
   "metadata": {},
   "outputs": [],
   "source": [
    "import torch\n",
    "import numpy as np"
   ]
  },
  {
   "cell_type": "markdown",
   "metadata": {},
   "source": [
    "Creating Tensors:"
   ]
  },
  {
   "cell_type": "markdown",
   "metadata": {},
   "source": [
    "PyTorch is interesting in the sense that the mathematical operations are stored in a Dynamic Computational Graph (DCG). PyTorch runs in a \"Symbolic Programming\" way. Reading in commands, storing as a DCG. Computation is done when the script is run."
   ]
  },
  {
   "cell_type": "code",
   "execution_count": 3,
   "metadata": {},
   "outputs": [],
   "source": [
    "x = torch.ones(3, dtype=float)\n",
    "y = 5 \n",
    "w = torch.from_numpy(np.array([1,2,3])).type(torch.DoubleTensor)\n",
    "w.requires_grad = True\n",
    "y_hat = torch.dot(w, x) + 3 \n",
    "Loss = (y-y_hat) ** 2\n"
   ]
  },
  {
   "cell_type": "markdown",
   "metadata": {},
   "source": [
    "PyTorch uses the Backpropogation technique to compute the derivatives of a function. Usually the cost/loss function for a model is a sequence of operations applied to the model parameters. These operations are stored in a DCG as mentioned above. To compute the gradient of a cost function (L):\n",
    "\n",
    "- Set \"requires_grad\" attribute of the parameter tensor to true. This tells PyTorch that we will be evaluating the derivative of a function at this point. Thus we should track the operations, we will utilise the DCG through chain rule to compute the derivative. \n",
    "- Call the \"backward\" method on the loss function to output the derivative of cost at these model params. \n",
    "- The gradient of the loss is stored as the \"grad\" attribute of the **model parameters**, not the loss function.\n",
    "\n",
    "The code below shows a demonstration of this, we're expecting the gradient of this to be (8,8,8). "
   ]
  },
  {
   "cell_type": "code",
   "execution_count": 4,
   "metadata": {},
   "outputs": [
    {
     "data": {
      "text/plain": [
       "tensor([8., 8., 8.], dtype=torch.float64)"
      ]
     },
     "execution_count": 4,
     "metadata": {},
     "output_type": "execute_result"
    }
   ],
   "source": [
    "Loss.backward()\n",
    "w.grad"
   ]
  },
  {
   "cell_type": "markdown",
   "metadata": {},
   "source": [
    "## Linear Regression Example:"
   ]
  },
  {
   "cell_type": "markdown",
   "metadata": {},
   "source": [
    "The below is a simple linear regression model fit to the California Housing Project dataset from Sci-Kit Learn. I demonstrate:\n",
    "\n",
    "- Tensors Basics\n",
    "- Implementing Gradient Descent using some of the modules within PyTorch. "
   ]
  },
  {
   "cell_type": "markdown",
   "metadata": {},
   "source": [
    "Import Modules:"
   ]
  },
  {
   "cell_type": "code",
   "execution_count": 93,
   "metadata": {},
   "outputs": [],
   "source": [
    "import pandas as pd\n",
    "from sklearn import datasets\n",
    "import torch.nn as nn \n",
    "import numpy as np"
   ]
  },
  {
   "cell_type": "markdown",
   "metadata": {},
   "source": [
    "Note that PyTorch requires data to be floats, in particular float32. "
   ]
  },
  {
   "cell_type": "code",
   "execution_count": 94,
   "metadata": {},
   "outputs": [
    {
     "name": "stdout",
     "output_type": "stream",
     "text": [
      "(20640, 8)\n",
      "(20640,)\n"
     ]
    }
   ],
   "source": [
    "X_train, y_train = datasets.fetch_california_housing(as_frame=True, return_X_y=True)\n",
    "# PyTorch functions with floats. \n",
    "X_train = X_train.astype(np.float32)\n",
    "y_train = y_train.astype(np.float32)\n",
    "print(X_train.shape)\n",
    "print(y_train.shape)"
   ]
  },
  {
   "cell_type": "markdown",
   "metadata": {},
   "source": [
    "It's well known that normalising data can speed up Gradient Descent. We should also make sure that the dimensions of our training data is consistent: y_train is a 1D numpy array however when feeding data forward through our neural network, the ouput will be 2D where the number of columns is set to 1. "
   ]
  },
  {
   "cell_type": "code",
   "execution_count": 49,
   "metadata": {},
   "outputs": [],
   "source": [
    "X_tensor = torch.nn.functional.normalize(torch.from_numpy(X_train.values))\n",
    "y_tensor = torch.from_numpy(y_train.values)\n",
    "y_tensor = y_tensor.view(-1, 1)\n",
    "num_features = X_tensor.shape[1]\n",
    "num_datapoints = X_tensor.shape[0]"
   ]
  },
  {
   "cell_type": "markdown",
   "metadata": {},
   "source": [
    "Model parameters are initialised to be random. "
   ]
  },
  {
   "cell_type": "code",
   "execution_count": 96,
   "metadata": {},
   "outputs": [
    {
     "name": "stdout",
     "output_type": "stream",
     "text": [
      "[tensor([[ 0.0280,  0.1968,  0.1816, -0.3387, -0.3232, -0.0663,  0.2792, -0.3475]]), tensor([-0.1839])]\n"
     ]
    }
   ],
   "source": [
    "model = nn.Linear(num_features, 1)\n",
    "model_params = [t.data for t in model.parameters()]\n",
    "print(model_params)"
   ]
  },
  {
   "cell_type": "code",
   "execution_count": 97,
   "metadata": {},
   "outputs": [
    {
     "name": "stdout",
     "output_type": "stream",
     "text": [
      "torch.Size([20640, 1])\n"
     ]
    }
   ],
   "source": [
    "print(model(X_tensor).shape)"
   ]
  },
  {
   "cell_type": "markdown",
   "metadata": {},
   "source": [
    "Here I set some model hyper parameters, again most of the useful functions are built in:"
   ]
  },
  {
   "cell_type": "code",
   "execution_count": 99,
   "metadata": {},
   "outputs": [],
   "source": [
    "num_iters = 50000\n",
    "learning_rate = 0.5\n",
    "loss_func = nn.MSELoss()\n",
    "optimizer = torch.optim.SGD(model.parameters(), lr=learning_rate)"
   ]
  },
  {
   "cell_type": "markdown",
   "metadata": {},
   "source": [
    "Run Gradient Descent Algorithm:\n",
    "\n",
    "When running gradient descent, it's important to know that gradients will accumulate if we don't set them to 0. Calling optimizer.zero_grad() sets all gradients to be 0. "
   ]
  },
  {
   "cell_type": "code",
   "execution_count": 100,
   "metadata": {},
   "outputs": [
    {
     "name": "stdout",
     "output_type": "stream",
     "text": [
      "The loss for Epoch 10000 is: 1.25\n",
      "The loss for Epoch 20000 is: 1.20\n",
      "The loss for Epoch 30000 is: 1.16\n",
      "The loss for Epoch 40000 is: 1.13\n",
      "The loss for Epoch 50000 is: 1.10\n"
     ]
    }
   ],
   "source": [
    "for epoch in range(1, num_iters+1):\n",
    "    # What do we need to do in each iteration of SGD?:\n",
    "    # Feed forward, Compute loss, gradient of loss, update model params.\n",
    "\n",
    "    # Feed Forward:\n",
    "    predictions = model(X_tensor)\n",
    "\n",
    "    # Computing Loss\n",
    "    loss = loss_func(y_tensor, predictions)\n",
    "\n",
    "    # Call the backward method to compute the gradient. Recall done implicitly as model params are store in the instance. \n",
    "    loss.backward()\n",
    "\n",
    "    # Apply a step of gradient descent\n",
    "    optimizer.step()\n",
    "\n",
    "    # Set the gradient of model params to be 0. \n",
    "    optimizer.zero_grad()\n",
    "\n",
    "    # Printing loss every 200 iterations.\n",
    "    if epoch % 10000 == 0:\n",
    "        print(f'The loss for Epoch {epoch} is: {loss:.2f}')"
   ]
  }
 ],
 "metadata": {
  "interpreter": {
   "hash": "742eda1bdf1e218a3bb2b4bc9aaa5c450f2dcf1623d3e127dc8dee9e2156d7e1"
  },
  "kernelspec": {
   "display_name": "Python 3.9.5 ('base')",
   "language": "python",
   "name": "python3"
  },
  "language_info": {
   "codemirror_mode": {
    "name": "ipython",
    "version": 3
   },
   "file_extension": ".py",
   "mimetype": "text/x-python",
   "name": "python",
   "nbconvert_exporter": "python",
   "pygments_lexer": "ipython3",
   "version": "3.9.5"
  },
  "orig_nbformat": 4
 },
 "nbformat": 4,
 "nbformat_minor": 2
}
