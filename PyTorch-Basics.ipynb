{
 "cells": [
  {
   "cell_type": "markdown",
   "metadata": {},
   "source": [
    "### PyTorch Basics:"
   ]
  },
  {
   "cell_type": "code",
   "execution_count": 1,
   "metadata": {},
   "outputs": [],
   "source": [
    "import torch\n",
    "import numpy as np"
   ]
  },
  {
   "cell_type": "markdown",
   "metadata": {},
   "source": [
    "Creating Tensors:"
   ]
  },
  {
   "cell_type": "markdown",
   "metadata": {},
   "source": [
    "PyTorch is interesting in the sense that the mathematical operations are stored in a Dynamic Computational Graph (DCG). PyTorch runs in a \"Symbolic Programming\" way. Reading in commands, storing as a DCG. Computation is done when the script is run."
   ]
  },
  {
   "cell_type": "code",
   "execution_count": 2,
   "metadata": {},
   "outputs": [],
   "source": [
    "x = torch.ones(3, dtype=float)\n",
    "y = 5 \n",
    "w = torch.from_numpy(np.array([1,2,3])).type(torch.DoubleTensor)\n",
    "w.requires_grad = True\n",
    "y_hat = torch.dot(w, x) + 3 \n",
    "Loss = (y-y_hat) ** 2\n"
   ]
  },
  {
   "cell_type": "markdown",
   "metadata": {},
   "source": [
    "PyTorch uses the Backpropogation technique to compute the derivatives of a function. Usually the cost/loss function for a model is a sequence of operations applied to the model parameters. These operations are stored in a DCG as mentioned above. To compute the gradient of a cost function (L):\n",
    "\n",
    "- Set \"requires_grad\" attribute of the parameter tensor to true. This tells PyTorch that we will be evaluating the derivative of a function at this point. Thus we should track the operations, we will utilise the DCG through chain rule to compute the derivative. \n",
    "- Call the \"backward\" method on the loss function to output the derivative of cost at these model params. \n",
    "- The gradient of the loss is stored as the \"grad\" attribute of the **model parameters**, not the loss function.\n",
    "\n",
    "The code below shows a demonstration of this, we're expecting the gradient of this to be (8,8,8). "
   ]
  },
  {
   "cell_type": "code",
   "execution_count": 3,
   "metadata": {},
   "outputs": [
    {
     "data": {
      "text/plain": [
       "tensor([8., 8., 8.], dtype=torch.float64)"
      ]
     },
     "execution_count": 3,
     "metadata": {},
     "output_type": "execute_result"
    }
   ],
   "source": [
    "Loss.backward()\n",
    "w.grad"
   ]
  },
  {
   "cell_type": "code",
   "execution_count": null,
   "metadata": {},
   "outputs": [],
   "source": []
  }
 ],
 "metadata": {
  "interpreter": {
   "hash": "742eda1bdf1e218a3bb2b4bc9aaa5c450f2dcf1623d3e127dc8dee9e2156d7e1"
  },
  "kernelspec": {
   "display_name": "Python 3.9.5 ('base')",
   "language": "python",
   "name": "python3"
  },
  "language_info": {
   "codemirror_mode": {
    "name": "ipython",
    "version": 3
   },
   "file_extension": ".py",
   "mimetype": "text/x-python",
   "name": "python",
   "nbconvert_exporter": "python",
   "pygments_lexer": "ipython3",
   "version": "3.9.5"
  },
  "orig_nbformat": 4
 },
 "nbformat": 4,
 "nbformat_minor": 2
}
